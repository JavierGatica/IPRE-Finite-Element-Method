{
 "cells": [
  {
   "cell_type": "markdown",
   "id": "003d7d3c",
   "metadata": {},
   "source": [
    "# Solución numérica para la deformación de una viga en régimen lineal"
   ]
  },
  {
   "cell_type": "markdown",
   "id": "b495b15c",
   "metadata": {},
   "source": [
    "## Formulación matemática del problema:\n",
    "\n",
    "En este notebook se generan soluciones computacionales para la ecuación diferencial parcial (EDP) que describe la deformación elástica de un sólido cuando a este es sometido a un campo de fuerzas en el espacio, para deformaciones pequeñas <sup>(1)</sup>. La ecuación a resolver corresponde a la siguiente:\n",
    "\n",
    "$$\n",
    "\\begin{align}\n",
    "-\\nabla\\cdot\\sigma &= f\\hbox{ in }\\Omega,\\\\ \n",
    "\\end{align}\n",
    "$$\n",
    "\n",
    "Se definen los parámetros\n",
    "$$\n",
    "\\begin{align}\n",
    "\\sigma &= \\lambda\\,\\hbox{tr}\\,(\\varepsilon) I + 2\\mu\\varepsilon,\\\\ \n",
    "\\varepsilon &= \\frac{1}{2}\\left(\\nabla u + (\\nabla u)^{\\top}\\right),\n",
    "\\end{align}\n",
    "$$\n",
    "\n",
    "Donde $\\sigma$ es el tensor de tracción unitaria (stress) con parámetros de Lamé $\\lambda$ y $\\mu$ correspondientes al módulo elástico para cargas axiales y cortantes respectivamente, $\\varepsilon$ es el tensor de desplazamiento unitario (Cauchy's strain tensor) y $u$ es el campo vectorial de deformaciones del cuerpo, por lo que se resuelve la EDP para $u$. Se propone la formulación variacional del problema:\n",
    "\n",
    "$$-\\int_\\Omega (\\nabla\\cdot\\sigma) \\cdot v  =\n",
    "\\int_\\Omega f\\cdot v ,$$\n",
    "\n",
    "Dado que el término $\\nabla\\cdot\\sigma$ es de segundo orden, se puede integrar por partes de la siguiente forma:\n",
    "\n",
    "$$\n",
    "\\begin{align}\n",
    "-\\int_\\Omega (\\nabla\\cdot\\sigma) \\cdot v \n",
    "&= \\int_\\Omega \\sigma : \\nabla v - \\int_{\\partial\\Omega}\n",
    "(\\sigma\\cdot \\hat{n})\\cdot v ,\n",
    "\\end{align}\n",
    "$$\n",
    "\n",
    "Considerando que $\\sigma \\cdot \\hat{n}$ corresponde al stress en la frontera del sólido, se puede caracterizar este vector como una condición de borde de Dirichlet definido como $T = \\sigma \\cdot \\hat{n}$ en una región específica de la frontera $\\partial \\Omega_T \\subseteq \\partial \\Omega$, tal que el resto de la frontera se define con una condición de Dirichlet de deformación nula. Además, es posible simplificar el producto interno $\\sigma (u) : \\nabla v$ como $\\sigma (u) : \\varepsilon (v)$, ya que la parte sólo la parte simétrica de $\\nabla v$ no entrega un resultado identicamente nulo en el producto interno. La forma variacional final resulta:\n",
    "\n",
    "$$\n",
    "\\int_\\Omega \\sigma : \\varepsilon (v)  =\n",
    "\\int_\\Omega f\\cdot v \n",
    "+ \\int_{\\partial\\Omega_T} T\\cdot v,\n",
    "$$\n",
    "\n",
    "El problema se puede expresar como una ecuación expresada en una forma bilineal y otra lineal para encontrar $u\\in V$:\n",
    "\n",
    "$$\n",
    "\\begin{equation}\n",
    "a(u,v) = L(v)\\quad\\forall v\\in\\hat{V},\n",
    "\\end{equation}\n",
    "$$\n",
    "\n",
    "Donde:\n",
    "\n",
    "$$\n",
    "\\begin{align}\n",
    "a(u,v) &= \\int_\\Omega\\sigma(u) :\\nabla v,\\\\ \n",
    "\\sigma(u) &= \\lambda(\\nabla\\cdot u)I + \\mu(\\nabla u + (\\nabla u)^{\\top}),\\\\\n",
    "L(v) &= \\int_\\Omega f\\cdot v + \\int_{\\partial\\Omega_T}\n",
    "T\\cdot v,\n",
    "\\end{align}\n",
    "$$\n",
    "\n",
    "\n",
    "Formulación del problema basada en: [The equations of linear elasticity](https://fenicsproject.org/pub/tutorial/html/._ftut1008.html)\n",
    "\n",
    "Notas al pie de página:\n",
    "\n",
    "(1) Para encontrar soluciones para sólidos con desplazamientos mayores investigar en análisis no lineal de estructuras"
   ]
  },
  {
   "cell_type": "markdown",
   "id": "516735df",
   "metadata": {},
   "source": [
    "## Elementos necesarios para la implementación:\n",
    "\n",
    "La construcción del sólido a utilizar y la discretización por elementos finítos se realiza en el programa <b>Gmsh</b>, para luego importar la malla obtenida como un archivo .msh. Para poder encontrar soluciones numéricas a partir de la malla se utiliza el módulo <b>NGSolve</b>. Se define una clase para poder trabajar con varias mallas y parámetros en el problema:"
   ]
  },
  {
   "cell_type": "code",
   "execution_count": 1,
   "id": "2ecc066d",
   "metadata": {},
   "outputs": [],
   "source": [
    "from ngsolve import *\n",
    "from ngsolve.webgui import Draw\n",
    "from netgen.read_gmsh import ReadGmsh"
   ]
  },
  {
   "cell_type": "code",
   "execution_count": 2,
   "id": "721b762e",
   "metadata": {},
   "outputs": [],
   "source": [
    "class Beam:\n",
    "    \n",
    "    def __init__(self, mesh, order, lam, mu, b, T):\n",
    "        \n",
    "        self.mesh = mesh\n",
    "        self.order = order\n",
    "        self.lam = lam\n",
    "        self.mu = mu\n",
    "        self.b = b\n",
    "        self.T = T\n",
    "        \n",
    "        if mesh.dim == 3:\n",
    "            self.freebnd = 'top|bottom|left|right|end'\n",
    "            self.fixedbnd = 'wall'\n",
    "        elif mesh.dim == 2:\n",
    "            self.freebnd = 'top|bottom|right'\n",
    "            self.fixedbnd = 'left'\n",
    "\n",
    "\n",
    "    def define_space(self):\n",
    "        \n",
    "        self.V = VectorH1(self.mesh,order = self.order, dirichlet = self.fixedbnd)\n",
    "        self.u = self.V.TrialFunction()\n",
    "        self.v = self.V.TestFunction()\n",
    "   \n",
    "    def define_forms(self):\n",
    "        \n",
    "        global sigma\n",
    "        sigma = lambda u: self.lam*Id(self.mesh.dim) * (epsilon(u)[0]+epsilon(u)[1]+epsilon(u)[2])+ 2*self.mu*epsilon(u)\n",
    "        global epsilon\n",
    "        epsilon = lambda u: 0.5*(grad(u) + grad(u).trans)\n",
    "        \n",
    "        self.a = BilinearForm(self.V)\n",
    "        self.a += InnerProduct(sigma(self.u), epsilon(self.v))*dx\n",
    "        self.a.Assemble()\n",
    "        \n",
    "        self.f = LinearForm(self.V)\n",
    "        self.f += self.b*self.v*dx + self.T*self.v*ds(definedon = self.freebnd)\n",
    "        self.f.Assemble()\n",
    "    \n",
    "    def solve_system(self):\n",
    "        \n",
    "        self.gfu = GridFunction(self.V)\n",
    "        # se implementa la condicion de dirichlet\n",
    "        self.gfu.Set(tuple([0 for _ in range(self.mesh.dim)]), definedon = mesh.Boundaries(self.fixedbnd))\n",
    "        \n",
    "        r = self.f.vec.CreateVector()\n",
    "        r.data = self.f.vec - self.a.mat * self.gfu.vec\n",
    "        self.gfu.vec.data += self.a.mat.Inverse(freedofs=self.V.FreeDofs()) * r\n",
    "        \n",
    "    def solve(self, draw = False):\n",
    "        self.define_space()\n",
    "        self.define_forms()\n",
    "        self.solve_system()\n",
    "        if draw:\n",
    "            Draw(self.gfu, deformation = True)"
   ]
  },
  {
   "cell_type": "markdown",
   "id": "70434db5",
   "metadata": {},
   "source": [
    "Luego de definir esta clase con parámetros convenientes se realizan experimentos con los resultados a obtener."
   ]
  },
  {
   "cell_type": "markdown",
   "id": "e9447fb3",
   "metadata": {},
   "source": [
    "## Resultados del modelo"
   ]
  },
  {
   "cell_type": "markdown",
   "id": "09e06c60",
   "metadata": {},
   "source": [
    "En la clase Beam() se definió un modelo de elementos finitos para encontrar la deformación de una viga empotrada en 2 o 3 dimensiones considerando los parámetros modificables del problema de mayor interés. Estos son:\n",
    "\n",
    "- mesh : malla del sólido con sus fronteras definidas para identificar las zonas empotradas y libres\n",
    "- order : orden de la aproximación para el modelo\n",
    "- lam ($\\lambda$) : primer parámetro de Lamé, asociado con la resistencia a cargas axiales\n",
    "- mu ($\\mu$) : segundo parámetro de Lamé, asociado con la resistencia a cargas cortantes\n",
    "- b : objeto CoefficientFunction que representa la carga por unidad de volumen dentro del sólido\n",
    "- T : objeto CoefficientFunction que representa la carga por unidad de superficie en la frontera del sólido\n",
    "\n",
    "Se realiza una primera demostración de como funciona la implementación computacional:"
   ]
  },
  {
   "cell_type": "code",
   "execution_count": 3,
   "id": "39118b7f",
   "metadata": {},
   "outputs": [
    {
     "name": "stdout",
     "output_type": "stream",
     "text": [
      "WARNING: Physical groups detected - Be sure to define them for every geometrical entity.\n"
     ]
    },
    {
     "data": {
      "application/vnd.jupyter.widget-view+json": {
       "model_id": "a44437509aa34a2f8ad4ef89afa0c960",
       "version_major": 2,
       "version_minor": 0
      },
      "text/plain": [
       "WebGuiWidget(value={'ngsolve_version': '6.2.2104', 'mesh_dim': 3, 'order2d': 2, 'order3d': 2, 'draw_vol': True…"
      ]
     },
     "metadata": {},
     "output_type": "display_data"
    },
    {
     "name": "stdout",
     "output_type": "stream",
     "text": [
      "-1.477552735808667\n"
     ]
    }
   ],
   "source": [
    "mesh = ReadGmsh('simple_brick.msh')\n",
    "mesh = Mesh(mesh)\n",
    "order = 2\n",
    "lam = 1000\n",
    "mu = 1000\n",
    "b = CoefficientFunction((0,0,0))\n",
    "T = CoefficientFunction((0,-0.5,0))\n",
    "\n",
    "viga = Beam(mesh,order,lam,mu,b,T)\n",
    "viga.solve(draw = True)\n",
    "\n",
    "print(min(viga.gfu.vec))"
   ]
  },
  {
   "cell_type": "markdown",
   "id": "ef69004f",
   "metadata": {},
   "source": [
    "Como se puede apreciar, la viga reacciona a través de deformaciones (en este caso elásticas y lineales) a las cargas aplicadas, es posible modificar el empotramiento de la viga al cambiar los atributos viga.freebnd y viga.fixedbnd para superficies libres y empotradas respectivamente. El formato de entrada de este parámetro es un string regex con los nombres de los grupos físicos separados por el carácter \"|\"."
   ]
  },
  {
   "cell_type": "markdown",
   "id": "68a08286",
   "metadata": {},
   "source": [
    "## Análisis: parámetros de Lamé"
   ]
  },
  {
   "cell_type": "markdown",
   "id": "d1ca6aa4",
   "metadata": {},
   "source": [
    "Los parámetros de Lamé en la mecánica del continuo corresponden a dos magnitudes que describen las propiedades mecánicas para la deformación de un material ante la presencia de cargas. Se encuentran presentes en la ley de Hooke en tres dimensiones:\n",
    "\n",
    "$$\n",
    "\\sigma = \\lambda\\,\\hbox{tr}\\,(\\varepsilon) I + 2\\mu\\varepsilon,\n",
    "$$\n",
    "\n",
    "\n",
    "Se relacionan con el módulo elástico para esfuerzos axiales ($E$) y cortantes ($G$) de la siguiente manera:\n",
    "\n",
    "$$\n",
    "\\begin{align}\n",
    "E&=\\mu \\frac{3\\lambda + 2\\mu}{\\lambda + \\mu},\\\\\n",
    "G&=\\mu,\n",
    "\\end{align}\n",
    "$$\n",
    "\n",
    "En el siguiente ejemplo se modeliza como una barra de acero de 15x1x1 metros se ve afectada por su peso propio:"
   ]
  },
  {
   "cell_type": "code",
   "execution_count": 8,
   "id": "28ce61e9",
   "metadata": {},
   "outputs": [
    {
     "name": "stdout",
     "output_type": "stream",
     "text": [
      "WARNING: Physical groups detected - Be sure to define them for every geometrical entity.\n"
     ]
    },
    {
     "data": {
      "application/vnd.jupyter.widget-view+json": {
       "model_id": "3be66841d0644ff4a4c3cee368bffe5e",
       "version_major": 2,
       "version_minor": 0
      },
      "text/plain": [
       "WebGuiWidget(value={'ngsolve_version': '6.2.2104', 'mesh_dim': 3, 'order2d': 2, 'order3d': 2, 'draw_vol': True…"
      ]
     },
     "metadata": {},
     "output_type": "display_data"
    },
    {
     "name": "stdout",
     "output_type": "stream",
     "text": [
      "La deflexión máxima es de: -1.1925206993108028\n"
     ]
    }
   ],
   "source": [
    "mesh = ReadGmsh('steel_bar.msh')\n",
    "mesh = Mesh(mesh)\n",
    "order = 3\n",
    "\n",
    "# parámetros de Lamé para el acero (aproximados)\n",
    "lam = 76000\n",
    "mu = 85000\n",
    "\n",
    "b = CoefficientFunction((0,-7850*9.8*10**-6,0)) # peso propio\n",
    "T = CoefficientFunction((0,0,0)) # carga externa\n",
    "\n",
    "viga = Beam(mesh,order,lam,mu,b,T)\n",
    "viga.freebnd = 'top'\n",
    "viga.solve(draw = True)\n",
    "\n",
    "\n",
    "\n",
    "print(f'La deflexión máxima es de: {min(viga.gfu.vec)}')"
   ]
  },
  {
   "cell_type": "markdown",
   "id": "8d1b6af8",
   "metadata": {},
   "source": [
    "Los resultados de deflexión se pueden comparar con los planteados por la teoría de Euler-Bernoulli para vigas de una dimensión con el objetivo de comparar ordenes de magnitud. Según las ecuaciones de deformación en una dimensión:\n",
    "\n",
    "$$\n",
    "\\varepsilon_{max} = \\frac{qL^4}{8EI} = -0.0278\n",
    "$$\n",
    "\n",
    "Esta diferencia puede deberse a las diferencias en la formulación matemática del problema, pero entrega indicios de que ambos métodos entregan resultados similares.\n",
    "\n",
    "Por otro lado, esta viga se encuentra tiene una longitud (span) mayor al permitido por las normas estructurales convencionales, por lo que se pueden apreciar pequeñas deformaciones hacia el extremo final del sólido. Al variar los parámetros $\\lambda$ y $\\mu$ manteniendo las cargas y teniendo en cuenta que esta ecuación rige para deformaciones pequeñas, se obtienen los siguientes resultados:"
   ]
  },
  {
   "cell_type": "code",
   "execution_count": 13,
   "id": "f427e0fb",
   "metadata": {},
   "outputs": [],
   "source": [
    "import numpy as np\n",
    "import pandas as pd"
   ]
  },
  {
   "cell_type": "code",
   "execution_count": 14,
   "id": "f36a039c",
   "metadata": {},
   "outputs": [
    {
     "data": {
      "application/vnd.jupyter.widget-view+json": {
       "model_id": "93c81f127fcd40bc847cf412a25b123f",
       "version_major": 2,
       "version_minor": 0
      },
      "text/plain": [
       "WebGuiWidget(value={'ngsolve_version': '6.2.2104', 'mesh_dim': 3, 'order2d': 2, 'order3d': 2, 'draw_vol': True…"
      ]
     },
     "metadata": {},
     "output_type": "display_data"
    },
    {
     "name": "stdout",
     "output_type": "stream",
     "text": [
      "Valores para deformación unitaria respecto a parámetros de Lamé:\n"
     ]
    },
    {
     "data": {
      "text/html": [
       "<div>\n",
       "<style scoped>\n",
       "    .dataframe tbody tr th:only-of-type {\n",
       "        vertical-align: middle;\n",
       "    }\n",
       "\n",
       "    .dataframe tbody tr th {\n",
       "        vertical-align: top;\n",
       "    }\n",
       "\n",
       "    .dataframe thead th {\n",
       "        text-align: right;\n",
       "    }\n",
       "</style>\n",
       "<table border=\"1\" class=\"dataframe\">\n",
       "  <thead>\n",
       "    <tr style=\"text-align: right;\">\n",
       "      <th></th>\n",
       "      <th>$\\mu$ = 70000</th>\n",
       "      <th>$\\mu$ = 85000</th>\n",
       "      <th>$\\mu$  = 100000</th>\n",
       "    </tr>\n",
       "  </thead>\n",
       "  <tbody>\n",
       "    <tr>\n",
       "      <th>$\\lambda$ = 60000</th>\n",
       "      <td>-1.143889</td>\n",
       "      <td>-0.994708</td>\n",
       "      <td>-0.879906</td>\n",
       "    </tr>\n",
       "    <tr>\n",
       "      <th>$\\lambda$ = 75000</th>\n",
       "      <td>-1.063895</td>\n",
       "      <td>-0.933776</td>\n",
       "      <td>-0.831939</td>\n",
       "    </tr>\n",
       "    <tr>\n",
       "      <th>$\\lambda$ = 90000</th>\n",
       "      <td>-0.994155</td>\n",
       "      <td>-0.879773</td>\n",
       "      <td>-0.788872</td>\n",
       "    </tr>\n",
       "  </tbody>\n",
       "</table>\n",
       "</div>"
      ],
      "text/plain": [
       "                   $\\mu$ = 70000  $\\mu$ = 85000  $\\mu$  = 100000\n",
       "$\\lambda$ = 60000      -1.143889      -0.994708        -0.879906\n",
       "$\\lambda$ = 75000      -1.063895      -0.933776        -0.831939\n",
       "$\\lambda$ = 90000      -0.994155      -0.879773        -0.788872"
      ]
     },
     "execution_count": 14,
     "metadata": {},
     "output_type": "execute_result"
    }
   ],
   "source": [
    "llam = [60000, 75000, 90000]\n",
    "lmu =  [70000, 85000, 100000]\n",
    "\n",
    "order = 2\n",
    "b = CoefficientFunction((0,-3,0)) # peso propio\n",
    "T = CoefficientFunction((0,0,0)) # carga externa\n",
    "\n",
    "i_lam = 0\n",
    "max_strain = np.zeros((3,3))\n",
    "for lam in llam:\n",
    "    i_mu = 0\n",
    "    for mu in lmu:\n",
    "        viga = Beam(mesh,order,lam,mu,b,T)\n",
    "        viga.freebnd = 'top'\n",
    "        viga.solve()\n",
    "        \n",
    "        max_strain[i_lam,i_mu] = min(viga.gfu.vec)\n",
    "        \n",
    "        i_mu += 1\n",
    "    i_lam += 1\n",
    "\n",
    "df = pd.DataFrame(max_strain,\n",
    "                 index = pd.Index([f'$\\lambda$ = {llam[0]}',f'$\\lambda$ = {llam[1]}',f'$\\lambda$ = {llam[2]}']),\n",
    "                 columns = pd.Index([f'$\\mu$ = {lmu[0]}',f'$\\mu$ = {lmu[1]}',f'$\\mu$  = {lmu[2]}']))\n",
    "\n",
    "Draw(viga.gfu, deformation = True)\n",
    "\n",
    "print('Valores para deformación unitaria respecto a parámetros de Lamé:')\n",
    "df"
   ]
  },
  {
   "cell_type": "markdown",
   "id": "98283ff2",
   "metadata": {},
   "source": [
    "Se puede apreciar que para una distribución donde el peso propio es dominante, el módulo de elasticidad transversal $\\mu$ posee una mayor importancia relativa respecto al parámetro $\\lambda$, ya que el esfuerzo de la viga es mayoritariamente de momento flector.\n",
    "\n",
    "Se realiza un experimento con otra distribución de cargas para poder comparar la importancia relativa de los parámetros en cada prueba. La distribución de cargas será de tensión, aplicada en la cara del extremo final de la viga:"
   ]
  },
  {
   "cell_type": "code",
   "execution_count": 15,
   "id": "c59ba140",
   "metadata": {},
   "outputs": [
    {
     "data": {
      "application/vnd.jupyter.widget-view+json": {
       "model_id": "be19d04bb3014b55aab512ab646aff2d",
       "version_major": 2,
       "version_minor": 0
      },
      "text/plain": [
       "WebGuiWidget(value={'ngsolve_version': '6.2.2104', 'mesh_dim': 3, 'order2d': 2, 'order3d': 2, 'draw_vol': True…"
      ]
     },
     "metadata": {},
     "output_type": "display_data"
    },
    {
     "name": "stdout",
     "output_type": "stream",
     "text": [
      "Valores para deformación unitaria respecto a parámetros de Lamé:\n"
     ]
    },
    {
     "data": {
      "text/html": [
       "<div>\n",
       "<style scoped>\n",
       "    .dataframe tbody tr th:only-of-type {\n",
       "        vertical-align: middle;\n",
       "    }\n",
       "\n",
       "    .dataframe tbody tr th {\n",
       "        vertical-align: top;\n",
       "    }\n",
       "\n",
       "    .dataframe thead th {\n",
       "        text-align: right;\n",
       "    }\n",
       "</style>\n",
       "<table border=\"1\" class=\"dataframe\">\n",
       "  <thead>\n",
       "    <tr style=\"text-align: right;\">\n",
       "      <th></th>\n",
       "      <th>$\\mu$ = 70000</th>\n",
       "      <th>$\\mu$ = 85000</th>\n",
       "      <th>$\\mu$  = 100000</th>\n",
       "    </tr>\n",
       "  </thead>\n",
       "  <tbody>\n",
       "    <tr>\n",
       "      <th>$\\lambda$ = 60000</th>\n",
       "      <td>0.751564</td>\n",
       "      <td>0.653131</td>\n",
       "      <td>0.577552</td>\n",
       "    </tr>\n",
       "    <tr>\n",
       "      <th>$\\lambda$ = 75000</th>\n",
       "      <td>0.699841</td>\n",
       "      <td>0.613590</td>\n",
       "      <td>0.546349</td>\n",
       "    </tr>\n",
       "    <tr>\n",
       "      <th>$\\lambda$ = 90000</th>\n",
       "      <td>0.654964</td>\n",
       "      <td>0.578677</td>\n",
       "      <td>0.518419</td>\n",
       "    </tr>\n",
       "  </tbody>\n",
       "</table>\n",
       "</div>"
      ],
      "text/plain": [
       "                   $\\mu$ = 70000  $\\mu$ = 85000  $\\mu$  = 100000\n",
       "$\\lambda$ = 60000       0.751564       0.653131         0.577552\n",
       "$\\lambda$ = 75000       0.699841       0.613590         0.546349\n",
       "$\\lambda$ = 90000       0.654964       0.578677         0.518419"
      ]
     },
     "execution_count": 15,
     "metadata": {},
     "output_type": "execute_result"
    }
   ],
   "source": [
    "llam = [60000, 75000, 90000]\n",
    "lmu =  [70000, 85000, 100000]\n",
    "\n",
    "order = 2\n",
    "b = CoefficientFunction((0,0,0)) # peso propio\n",
    "T = CoefficientFunction((10000,0,0)) # carga externa\n",
    "\n",
    "i_lam = 0\n",
    "max_strain = np.zeros((3,3))\n",
    "for lam in llam:\n",
    "    i_mu = 0\n",
    "    for mu in lmu:\n",
    "        viga = Beam(mesh,order,lam,mu,b,T)\n",
    "        viga.freebnd = 'end'\n",
    "        viga.solve()\n",
    "        \n",
    "        max_strain[i_lam,i_mu] = max(viga.gfu.vec)\n",
    "        \n",
    "        i_mu += 1\n",
    "    i_lam += 1\n",
    "\n",
    "df = pd.DataFrame(max_strain,\n",
    "                 index = pd.Index([f'$\\lambda$ = {llam[0]}',f'$\\lambda$ = {llam[1]}',f'$\\lambda$ = {llam[2]}']),\n",
    "                 columns = pd.Index([f'$\\mu$ = {lmu[0]}',f'$\\mu$ = {lmu[1]}',f'$\\mu$  = {lmu[2]}']))\n",
    "\n",
    "Draw(viga.gfu,deformation = True)\n",
    "\n",
    "print('Valores para deformación unitaria respecto a parámetros de Lamé:')\n",
    "df"
   ]
  },
  {
   "cell_type": "markdown",
   "id": "804112ce",
   "metadata": {},
   "source": [
    "Se puede ver que en el experimento de tracción pura ambos parámetros tienen efectos significativos en la deformación máxima del material, esto es porque el módulo elástico para cargas axiales ($E$) depende de ambos parámetros.\n",
    "\n",
    "También es posible generar tensiones de corte con el parámetro de esfuerzo superficial definido como condición de borde en la ecuación. Se analiza el caso en que la carga neta genera este tipo de tensiones en la barra:"
   ]
  },
  {
   "cell_type": "code",
   "execution_count": 16,
   "id": "98d31c13",
   "metadata": {},
   "outputs": [
    {
     "data": {
      "application/vnd.jupyter.widget-view+json": {
       "model_id": "d33ab2c8488f4541a30b55109153d4be",
       "version_major": 2,
       "version_minor": 0
      },
      "text/plain": [
       "WebGuiWidget(value={'ngsolve_version': '6.2.2104', 'mesh_dim': 3, 'order2d': 2, 'order3d': 2, 'draw_vol': True…"
      ]
     },
     "metadata": {},
     "output_type": "display_data"
    },
    {
     "name": "stdout",
     "output_type": "stream",
     "text": [
      "Valores para deformación unitaria respecto a parámetros de Lamé:\n"
     ]
    },
    {
     "data": {
      "text/html": [
       "<div>\n",
       "<style scoped>\n",
       "    .dataframe tbody tr th:only-of-type {\n",
       "        vertical-align: middle;\n",
       "    }\n",
       "\n",
       "    .dataframe tbody tr th {\n",
       "        vertical-align: top;\n",
       "    }\n",
       "\n",
       "    .dataframe thead th {\n",
       "        text-align: right;\n",
       "    }\n",
       "</style>\n",
       "<table border=\"1\" class=\"dataframe\">\n",
       "  <thead>\n",
       "    <tr style=\"text-align: right;\">\n",
       "      <th></th>\n",
       "      <th>$\\mu$ = 70000</th>\n",
       "      <th>$\\mu$ = 85000</th>\n",
       "      <th>$\\mu$  = 100000</th>\n",
       "    </tr>\n",
       "  </thead>\n",
       "  <tbody>\n",
       "    <tr>\n",
       "      <th>$\\lambda$ = 60000</th>\n",
       "      <td>0.111201</td>\n",
       "      <td>0.082428</td>\n",
       "      <td>0.064286</td>\n",
       "    </tr>\n",
       "    <tr>\n",
       "      <th>$\\lambda$ = 75000</th>\n",
       "      <td>0.125782</td>\n",
       "      <td>0.093044</td>\n",
       "      <td>0.072387</td>\n",
       "    </tr>\n",
       "    <tr>\n",
       "      <th>$\\lambda$ = 90000</th>\n",
       "      <td>0.139248</td>\n",
       "      <td>0.102906</td>\n",
       "      <td>0.079953</td>\n",
       "    </tr>\n",
       "  </tbody>\n",
       "</table>\n",
       "</div>"
      ],
      "text/plain": [
       "                   $\\mu$ = 70000  $\\mu$ = 85000  $\\mu$  = 100000\n",
       "$\\lambda$ = 60000       0.111201       0.082428         0.064286\n",
       "$\\lambda$ = 75000       0.125782       0.093044         0.072387\n",
       "$\\lambda$ = 90000       0.139248       0.102906         0.079953"
      ]
     },
     "execution_count": 16,
     "metadata": {},
     "output_type": "execute_result"
    }
   ],
   "source": [
    "llam = [60000, 75000, 90000]\n",
    "lmu =  [70000, 85000, 100000]\n",
    "order = 2\n",
    "\n",
    "\n",
    "from math import pi\n",
    "\n",
    "b = CoefficientFunction((0,0,0))\n",
    "T = CoefficientFunction((0,5000*cos(pi*(0.5-z)),5000*cos(pi*(0.5-y))))\n",
    "\n",
    "i_lam = 0\n",
    "max_strain = np.zeros((3,3))\n",
    "for lam in llam:\n",
    "    i_mu = 0\n",
    "    for mu in lmu:\n",
    "        viga = Beam(mesh,order,lam,mu,b,T)\n",
    "        viga.freebnd = 'top|bottom|left|right'\n",
    "        viga.solve()\n",
    "        max_strain[i_lam,i_mu] = max(viga.gfu.vec)\n",
    "        \n",
    "        i_mu += 1\n",
    "    i_lam += 1\n",
    "\n",
    "df = pd.DataFrame(max_strain,\n",
    "                 index = pd.Index([f'$\\lambda$ = {llam[0]}',f'$\\lambda$ = {llam[1]}',f'$\\lambda$ = {llam[2]}']),\n",
    "                 columns = pd.Index([f'$\\mu$ = {lmu[0]}',f'$\\mu$ = {lmu[1]}',f'$\\mu$  = {lmu[2]}']))\n",
    "\n",
    "Draw(viga.gfu, deformation = True)\n",
    "\n",
    "print('Valores para deformación unitaria respecto a parámetros de Lamé:')\n",
    "df"
   ]
  },
  {
   "cell_type": "markdown",
   "id": "728e2202",
   "metadata": {},
   "source": [
    "Se puede ver que la magnitud de la deformación depende mayoritariamente del parámetro $\\mu$, ya que este determina el módulo elástico para tensiones de corte, aunque el parámetro $\\lambda$ también influye en la deformación del sólido en menor medida."
   ]
  },
  {
   "cell_type": "markdown",
   "id": "c2ebe832",
   "metadata": {},
   "source": [
    "## Shape Optimization con método del gradiente conjugado"
   ]
  },
  {
   "cell_type": "markdown",
   "id": "b67f8acd",
   "metadata": {},
   "source": [
    "Se puede definir la función objetivo del problema como la energía de deformación del sólido, esta se puede calcular de la siguiente manera:\n",
    "\n",
    "$$\n",
    "E_{def} = \\frac{1}{2} \\int_{\\Omega} \\sigma : \\varepsilon\n",
    "$$\n",
    "\n",
    "Notar que esta es equivalente a la forma bilineal del problema, lo que tiene sentido ya que la formulación de la ecuación se basa en el principio de trabajos virtuales. Se puede proponer el siguiente problema de optimización en el que se minimiza la energía con la restricción de que se debe cumplir la ecuación diferencial:\n",
    "\n",
    "\\begin{equation}\n",
    "            \\underset{\\Omega\\subset \\mathsf{D}}{\\mbox{min}} \\; J(u) := \\int_\\Omega \\sigma : \\varepsilon \\; dx,\n",
    "\\end{equation}\n",
    " Sujeto a que $(\\Omega,u)$ satisfacen\n",
    " \\begin{equation}\n",
    "        \\int_\\Omega \\sigma : \\varepsilon (v)  = \\int_\\Omega f\\cdot v + \\int_{\\partial\\Omega_T} T\\cdot v,\n",
    "\\end{equation}\n",
    "\n",
    "Esto se implementa computacionalmente utilizando las herramientas de shape optimization de NGSolve."
   ]
  },
  {
   "cell_type": "code",
   "execution_count": 1,
   "id": "d941199a",
   "metadata": {},
   "outputs": [],
   "source": [
    "from ngsolve import *\n",
    "from ngsolve.webgui import Draw\n",
    "from netgen.geom2d import SplineGeometry\n",
    "from ngsolve.solvers import *"
   ]
  },
  {
   "cell_type": "markdown",
   "id": "63c70c35",
   "metadata": {},
   "source": [
    "Se genera una malla bidimensional a partir del módulo de geometría spline: "
   ]
  },
  {
   "cell_type": "code",
   "execution_count": 2,
   "id": "859a4b7b",
   "metadata": {},
   "outputs": [],
   "source": [
    "geo = SplineGeometry()\n",
    "\n",
    "# definición de puntos\n",
    "p1 = geo.AppendPoint (0,0)\n",
    "p2 = geo.AppendPoint (10,0)\n",
    "p3 = geo.AppendPoint (10,1)\n",
    "p4 = geo.AppendPoint (0,1)\n",
    "\n",
    "# unión de los puntos en lineas\n",
    "geo.Append ([\"line\", p1, p2], bc = 'bottom')\n",
    "geo.Append ([\"line\", p2, p3], bc = 'right')\n",
    "geo.Append ([\"line\", p3, p4], bc = 'top')\n",
    "geo.Append ([\"line\", p4, p1], bc = 'left')\n",
    "\n",
    "# se generan los elementos y nodos\n",
    "mesh = geo.GenerateMesh (maxh=0.25)\n",
    "\n",
    "# se define el objeto de ngsolve\n",
    "mesh = Mesh(mesh)"
   ]
  },
  {
   "cell_type": "markdown",
   "id": "8b3d6b88",
   "metadata": {},
   "source": [
    "Se define el espacio de funciones a utilizar, en este caso vectoriales derivables. Para generar la solución de la ecuación diferencial, así como el gradiente de la forma (shape differentiation) se generan dos funciones en el espacio, <i>gfu</i> corresponde a la solución para la ecuación diferencial y <i>gfp</i> corresponde a un término de la derivada direccional, que será expresado en términos de la función de costo:"
   ]
  },
  {
   "cell_type": "code",
   "execution_count": 3,
   "id": "c5c6ea65",
   "metadata": {},
   "outputs": [],
   "source": [
    "fes = VectorH1(mesh, order=2, dirichlet = 'left|right')\n",
    "gfu = GridFunction(fes)\n",
    "gfp = GridFunction(fes)"
   ]
  },
  {
   "cell_type": "markdown",
   "id": "02026517",
   "metadata": {},
   "source": [
    "Se definen las funciones y operadores que se utilizan en la formulación del modelo:"
   ]
  },
  {
   "cell_type": "code",
   "execution_count": 4,
   "id": "b73f852b",
   "metadata": {},
   "outputs": [],
   "source": [
    "lam = 1000\n",
    "mu = 1000\n",
    "\n",
    "\n",
    "def sigma(u):\n",
    "    return lam*Id(mesh.dim) * (epsilon(u)[0]+epsilon(u)[1]+epsilon(u)[2])+ 2*mu*epsilon(u)\n",
    "\n",
    "def epsilon(u):\n",
    "    return 0.5*(grad(u) + grad(u).trans)\n",
    "\n",
    "    \n",
    "def EquationFA(u,v):\n",
    "    return InnerProduct(sigma(u), epsilon(v))*dx\n",
    "\n",
    "def CostAutoFA(u): \n",
    "    return InnerProduct(sigma(u),epsilon(u))*dx\n",
    "\n",
    "def CostAuto2(u): \n",
    "    return CostAutoFA(u)\n",
    "\n",
    "def SolveAdjointEquation():\n",
    "    rhs = gfp.vec.CreateVector()\n",
    "    rhs.data = fadjoint.vec - aAuto.mat.T * gfp.vec\n",
    "    update = gfp.vec.CreateVector()\n",
    "    update.data = aAuto.mat.Inverse(fes.FreeDofs()).T * rhs\n",
    "    gfp.vec.data += update\n",
    "\n",
    "def SolveDeformationEquationAuto():\n",
    "    rhs = gfX.vec.CreateVector()\n",
    "    rhs.data = dJOmegaAuto.vec - b.mat * gfX.vec\n",
    "    update = gfX.vec.CreateVector()\n",
    "    update.data = b.mat.Inverse(VEC.FreeDofs()) * rhs\n",
    "    gfX.vec.data += update    \n",
    "\n",
    "LagrangianFA = CostAutoFA(gfu) + EquationFA(gfu,gfp)"
   ]
  },
  {
   "cell_type": "code",
   "execution_count": 5,
   "id": "3be764fd",
   "metadata": {
    "scrolled": false
   },
   "outputs": [
    {
     "data": {
      "application/vnd.jupyter.widget-view+json": {
       "model_id": "ca56154af79242d6ade6689a7fc4ec43",
       "version_major": 2,
       "version_minor": 0
      },
      "text/plain": [
       "WebGuiWidget(value={'ngsolve_version': '6.2.2104', 'mesh_dim': 2, 'order2d': 2, 'order3d': 2, 'draw_vol': Fals…"
      ]
     },
     "metadata": {},
     "output_type": "display_data"
    },
    {
     "data": {
      "application/vnd.jupyter.widget-view+json": {
       "model_id": "68a6d3fe538a4c1e80497ff19e546d2d",
       "version_major": 2,
       "version_minor": 0
      },
      "text/plain": [
       "WebGuiWidget(value={'ngsolve_version': '6.2.2104', 'mesh_dim': 2, 'order2d': 2, 'order3d': 2, 'draw_vol': Fals…"
      ]
     },
     "metadata": {},
     "output_type": "display_data"
    }
   ],
   "source": [
    "u, v = fes.TnT()\n",
    "\n",
    "b = CoefficientFunction((0,-1))\n",
    "\n",
    "aAuto = BilinearForm(fes)\n",
    "aAuto += EquationFA(u,v) - (b*v)*dx # forma bilineal para el método de newton\n",
    "aAuto.Assemble()\n",
    "\n",
    "p, w = fes.TnT()\n",
    "\n",
    "fadjoint = LinearForm(fes)\n",
    "fadjoint += -1*(CostAutoFA(gfu)).Diff(gfu,w)\n",
    "\n",
    "VEC = VectorH1(mesh, order=2)\n",
    "PHI, X = VEC.TnT()\n",
    "\n",
    "\n",
    "dJOmegaAuto = LinearForm(VEC)\n",
    "dJOmegaAuto += LagrangianFA.DiffShape(X)\n",
    "\n",
    "b = BilinearForm(VEC)\n",
    "b += InnerProduct(grad(X),grad(PHI))*dx + InnerProduct(X,PHI)*dx\n",
    "\n",
    "gfX = GridFunction(VEC)\n",
    "\n",
    "Newton(aAuto, gfu, fes.FreeDofs(), printing = False)\n",
    "\n",
    "Draw(gfu, deformation = True)\n",
    "\n",
    "gfset = GridFunction(VEC)\n",
    "gfset.Set((0,0))\n",
    "\n",
    "gfu.Set((0,0))\n",
    "scene_u = Draw (gfu, mesh, \"state\", deformation = True)"
   ]
  },
  {
   "cell_type": "code",
   "execution_count": 6,
   "id": "48c48301",
   "metadata": {
    "scrolled": false
   },
   "outputs": [
    {
     "ename": "KeyboardInterrupt",
     "evalue": "",
     "output_type": "error",
     "traceback": [
      "\u001b[1;31m---------------------------------------------------------------------------\u001b[0m",
      "\u001b[1;31mKeyboardInterrupt\u001b[0m                         Traceback (most recent call last)",
      "\u001b[1;32m<ipython-input-6-5144667c3667>\u001b[0m in \u001b[0;36m<module>\u001b[1;34m\u001b[0m\n\u001b[0;32m     64\u001b[0m     \u001b[0mNewton\u001b[0m\u001b[1;33m(\u001b[0m\u001b[0maAuto\u001b[0m\u001b[1;33m,\u001b[0m \u001b[0mgfu\u001b[0m\u001b[1;33m,\u001b[0m \u001b[0mfes\u001b[0m\u001b[1;33m.\u001b[0m\u001b[0mFreeDofs\u001b[0m\u001b[1;33m(\u001b[0m\u001b[1;33m)\u001b[0m\u001b[1;33m,\u001b[0m \u001b[0mprinting\u001b[0m \u001b[1;33m=\u001b[0m \u001b[1;32mFalse\u001b[0m\u001b[1;33m)\u001b[0m\u001b[1;33m\u001b[0m\u001b[1;33m\u001b[0m\u001b[0m\n\u001b[0;32m     65\u001b[0m \u001b[1;33m\u001b[0m\u001b[0m\n\u001b[1;32m---> 66\u001b[1;33m     \u001b[0mfadjoint\u001b[0m\u001b[1;33m.\u001b[0m\u001b[0mAssemble\u001b[0m\u001b[1;33m(\u001b[0m\u001b[1;33m)\u001b[0m\u001b[1;33m\u001b[0m\u001b[1;33m\u001b[0m\u001b[0m\n\u001b[0m\u001b[0;32m     67\u001b[0m     \u001b[0mSolveAdjointEquation\u001b[0m\u001b[1;33m(\u001b[0m\u001b[1;33m)\u001b[0m\u001b[1;33m\u001b[0m\u001b[1;33m\u001b[0m\u001b[0m\n\u001b[0;32m     68\u001b[0m \u001b[1;33m\u001b[0m\u001b[0m\n",
      "\u001b[1;31mKeyboardInterrupt\u001b[0m: "
     ]
    }
   ],
   "source": [
    "import numpy as np\n",
    "import matplotlib.pyplot as plt\n",
    "from IPython.display import display, clear_output\n",
    "\n",
    "\n",
    "#reset to and solve for initial configuration\n",
    "gfset.Set((0,0))\n",
    "mesh.SetDeformation(gfset)\n",
    "scene_u.Redraw()\n",
    "gfu.vec[:]=0\n",
    "Newton(aAuto, gfu, fes.FreeDofs())\n",
    "LineSearch = False\n",
    "\n",
    "\n",
    "##################\n",
    "ShowObj = True\n",
    "VTKexport = True\n",
    "##################\n",
    "\n",
    "\n",
    "if VTKexport:\n",
    "    # VTKOutput object\n",
    "    vtk = VTKOutput(ma = mesh,\n",
    "                    coefs = [gfu],\n",
    "                    names = ['deformacion'],\n",
    "                    filename = 'optimization/ambos_lados',\n",
    "                    subdivision = 1)\n",
    "    # Exporting the results:\n",
    "    vtk.Do()\n",
    "\n",
    "iter_max = 1000\n",
    "Jold = Integrate(CostAuto2(gfu), mesh)\n",
    "converged = False\n",
    "\n",
    "\n",
    "if ShowObj:\n",
    "    iteracion = []\n",
    "    objetivo = []\n",
    "\n",
    "    fig = plt.figure()\n",
    "    ax = fig.add_subplot(1,1,1)\n",
    "\n",
    "\n",
    "for k in range(iter_max):\n",
    "    #print('cost at iteration', k, ': ', Jold)\n",
    "    \n",
    "    if ShowObj:\n",
    "        iteracion.append(k)\n",
    "        objetivo.append(Jold)\n",
    "\n",
    "        ax.set_xlim(0,k)\n",
    "        ax.cla()\n",
    "        ax.plot(iteracion, objetivo)\n",
    "        display(fig)\n",
    "        clear_output(wait = True)\n",
    "    \n",
    "    mesh.SetDeformation(gfset)\n",
    "    #\n",
    "    #mesh.ngmesh.OptimizeMesh2d()\n",
    "    #\n",
    "    scene_u.Redraw()\n",
    "    \n",
    "    gfu.vec[:]=0\n",
    "    Newton(aAuto, gfu, fes.FreeDofs(), printing = False)\n",
    "    \n",
    "    fadjoint.Assemble()\n",
    "    SolveAdjointEquation()\n",
    "    \n",
    "    b.Assemble()\n",
    "    dJOmegaAuto.Assemble()\n",
    "    SolveDeformationEquationAuto()\n",
    "\n",
    "    scale = 0.01 / Norm(gfX.vec)\n",
    "    gfsetOld = gfset\n",
    "    gfset.vec.data -= scale * gfX.vec\n",
    "\n",
    "    gfset.components[0].Set(0, definedon = 'left') # \"component-wise\" neumann boundary condition\n",
    "    gfset.components[0].Set(0, definedon = 'right')\n",
    "    \n",
    "    Jnew = Integrate(CostAuto2(gfu), mesh)\n",
    "    \n",
    "    if LineSearch:\n",
    "        while Jnew > Jold and scale > 1e-12:\n",
    "            scale = scale / 2\n",
    "            \n",
    "            if scale <= 1e-7:\n",
    "                converged = True\n",
    "                break\n",
    "\n",
    "            gfset.vec.data = gfsetOld.vec - scale * gfX.vec\n",
    "            mesh.SetDeformation(gfset)\n",
    "            \n",
    "            gfu.vec[:]=0\n",
    "            Newton(aAuto, gfu, fes.FreeDofs(), printing = False)\n",
    "            Jnew = Integrate(CostAuto(gfu), mesh)\n",
    "    \n",
    "    if converged==True:\n",
    "        break\n",
    "    Jold = Jnew\n",
    "    \n",
    "    if VTKexport:\n",
    "        vtk.Do()\n",
    "    \n",
    "    Redraw(blocking=True)"
   ]
  },
  {
   "cell_type": "code",
   "execution_count": null,
   "id": "8d7eea79",
   "metadata": {},
   "outputs": [],
   "source": []
  }
 ],
 "metadata": {
  "kernelspec": {
   "display_name": "Python 3",
   "language": "python",
   "name": "python3"
  },
  "language_info": {
   "codemirror_mode": {
    "name": "ipython",
    "version": 3
   },
   "file_extension": ".py",
   "mimetype": "text/x-python",
   "name": "python",
   "nbconvert_exporter": "python",
   "pygments_lexer": "ipython3",
   "version": "3.7.9"
  }
 },
 "nbformat": 4,
 "nbformat_minor": 5
}
