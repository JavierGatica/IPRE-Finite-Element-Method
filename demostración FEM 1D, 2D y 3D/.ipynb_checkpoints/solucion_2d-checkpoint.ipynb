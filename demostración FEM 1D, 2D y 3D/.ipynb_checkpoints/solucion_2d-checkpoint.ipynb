{
 "cells": [
  {
   "cell_type": "markdown",
   "id": "e1a4219c",
   "metadata": {},
   "source": [
    "## Método de Elementos Finitos en dos dimensiones\n",
    "\n",
    "El objetivo de este programa es resolver una ecuación diferencial lineal de segundo orden no homogénea en un intervalo acotado con el método de elementos finitos, el problema es el siguiente:\n",
    "\n",
    "\\begin{equation}\n",
    "    -\\Delta u+ u=f \\quad \\forall (x,y) \\in R=[0,1] \\times [0,1] : \\partial R = g\n",
    "\\end{equation}"
   ]
  },
  {
   "cell_type": "code",
   "execution_count": 1,
   "id": "0f31f242",
   "metadata": {},
   "outputs": [],
   "source": [
    "from ngsolve import *\n",
    "from ngsolve.webgui import Draw\n",
    "from netgen.geom2d import unit_square"
   ]
  },
  {
   "cell_type": "code",
   "execution_count": 2,
   "id": "763d1a2b",
   "metadata": {},
   "outputs": [
    {
     "data": {
      "application/vnd.jupyter.widget-view+json": {
       "model_id": "2b9b3ac985434536801f9a2c156fd222",
       "version_major": 2,
       "version_minor": 0
      },
      "text/plain": [
       "WebGuiWidget(value={'ngsolve_version': '6.2.2104', 'mesh_dim': 2, 'order2d': 2, 'order3d': 2, 'draw_vol': Fals…"
      ]
     },
     "metadata": {},
     "output_type": "display_data"
    },
    {
     "data": {
      "text/plain": [
       "BaseWebGuiScene"
      ]
     },
     "execution_count": 2,
     "metadata": {},
     "output_type": "execute_result"
    }
   ],
   "source": [
    "def main(order = 1, maxh = 0.05):\n",
    "\n",
    "    mesh = Mesh(unit_square.GenerateMesh(maxh=maxh)) # se genera una malla [0,1]x[0,1] especificando el tamaño de los elementos\n",
    "\n",
    "    fes = H1(mesh, order= order, dirichlet=\"bottom|right|top|left\") # se define el espacio utilizado para la solución\n",
    "\n",
    "    u = fes.TrialFunction()  # symbolic object\n",
    "    v = fes.TestFunction()   # symbolic object\n",
    "    gfu = GridFunction(fes)  # solution\n",
    "    \n",
    "    # forma bilineal\n",
    "    a = BilinearForm(fes, symmetric=True)\n",
    "    a += (grad(u)*grad(v) + u*v)*dx\n",
    "    a.Assemble()\n",
    "    \n",
    "    # forma bilineal\n",
    "    f = LinearForm(fes)\n",
    "    f += 1*v*dx\n",
    "    f.Assemble()\n",
    "    \n",
    "    # función para la condición de Dirichlet\n",
    "    g = 0\n",
    "    gfu.Set(g, BND)\n",
    "    \n",
    "    # valores para resolver el sistema lineal considerando las condiciones de frontera\n",
    "    r = f.vec.CreateVector()\n",
    "    r.data = f.vec - a.mat * gfu.vec\n",
    "    \n",
    "    # solución del sistema\n",
    "    gfu.vec.data += a.mat.Inverse(freedofs=fes.FreeDofs()) * r\n",
    "    \n",
    "    return gfu, mesh\n",
    "\n",
    "gfu, mesh = main()\n",
    "\n",
    "Draw(gfu)"
   ]
  }
 ],
 "metadata": {
  "kernelspec": {
   "display_name": "Python 3",
   "language": "python",
   "name": "python3"
  },
  "language_info": {
   "codemirror_mode": {
    "name": "ipython",
    "version": 3
   },
   "file_extension": ".py",
   "mimetype": "text/x-python",
   "name": "python",
   "nbconvert_exporter": "python",
   "pygments_lexer": "ipython3",
   "version": "3.7.9"
  }
 },
 "nbformat": 4,
 "nbformat_minor": 5
}
