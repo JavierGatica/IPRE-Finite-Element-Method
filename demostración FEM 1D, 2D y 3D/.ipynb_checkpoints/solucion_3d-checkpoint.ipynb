{
 "cells": [
  {
   "cell_type": "markdown",
   "id": "53249514",
   "metadata": {},
   "source": [
    "## Método de Elementos Finitos en dos dimensiones\n",
    "\n",
    "El objetivo de este programa es resolver una ecuación diferencial lineal de segundo orden no homogénea en un intervalo acotado con el método de elementos finitos, el problema es el siguiente:\n",
    "\n",
    "\\begin{equation}\n",
    "    -\\Delta u+ u=f \\quad \\forall (x,y) \\in R=[0,1] \\times [0,1] \\times [0,1] : \\partial R = g\n",
    "\\end{equation}"
   ]
  },
  {
   "cell_type": "code",
   "execution_count": 49,
   "id": "1160f2fb",
   "metadata": {},
   "outputs": [],
   "source": [
    "import netgen.meshing as ngm\n",
    "from netgen.csg import *\n",
    "from ngsolve import *\n",
    "from ngsolve.webgui import Draw\n",
    "from math import pi"
   ]
  },
  {
   "cell_type": "code",
   "execution_count": 51,
   "id": "703004f3",
   "metadata": {
    "scrolled": false
   },
   "outputs": [
    {
     "data": {
      "application/vnd.jupyter.widget-view+json": {
       "model_id": "36c43d82396141cf89f19b41dd63a9e6",
       "version_major": 2,
       "version_minor": 0
      },
      "text/plain": [
       "WebGuiWidget(value={'ngsolve_version': '6.2.2104', 'mesh_dim': 3, 'order2d': 2, 'order3d': 2, 'draw_vol': True…"
      ]
     },
     "metadata": {},
     "output_type": "display_data"
    },
    {
     "data": {
      "text/plain": [
       "BaseWebGuiScene"
      ]
     },
     "execution_count": 51,
     "metadata": {},
     "output_type": "execute_result"
    }
   ],
   "source": [
    "# basado en: https://docu.ngsolve.org/latest/i-tutorials/unit-4.3-manualmesh/manualmeshing.html?highlight=3d%20mesh\n",
    "\n",
    "def main(order = 1, maxh = 0.1):\n",
    "    \n",
    "    # se define la geometría del dominio utilizado\n",
    "    geo1 = CSGeometry()\n",
    "    geo1.Add (OrthoBrick( Pnt(0,0,0), Pnt(1,1,1) ))\n",
    "    m1 = geo1.GenerateMesh (maxh=0.1)\n",
    "    m1.Refine()\n",
    "    \n",
    "    # se define el objeto generador de la malla\n",
    "    ngmesh = ngm.Mesh()\n",
    "\n",
    "    fd_outside = ngmesh.Add (ngm.FaceDescriptor(bc=1,domin=1,surfnr=1))\n",
    "    fd_inside = ngmesh.Add (ngm.FaceDescriptor(bc=2,domin=2,domout=1,surfnr=2))\n",
    "\n",
    "    pmap1 = { }\n",
    "    for e in m1.Elements2D():\n",
    "        for v in e.vertices:\n",
    "            if (v not in pmap1):\n",
    "                pmap1[v] = ngmesh.Add (m1[v])\n",
    "\n",
    "    for e in m1.Elements2D():\n",
    "        ngmesh.Add (ngm.Element2D (fd_outside, [pmap1[v] for v in e.vertices]))\n",
    "    \n",
    "    # se genera un volumen acotado por las superficies definidas\n",
    "    ngmesh.GenerateVolumeMesh()\n",
    "\n",
    "    # se define el objeto en el modulo ngsolve para implementarlo en el problema de elementos finitos\n",
    "    mesh = Mesh(ngmesh)\n",
    "\n",
    "    # espacio de funciones utilizado\n",
    "    fes = H1(mesh, order=1, dirichlet='default') \n",
    "    \n",
    "    # funciones de prueba\n",
    "    u = fes.TrialFunction()\n",
    "    v = fes.TestFunction()\n",
    "    \n",
    "    # objeto utilizado para manipular las soluciones encontradas\n",
    "    gfu = GridFunction(fes)\n",
    "    \n",
    "    # definición de la forma bilineal\n",
    "    a = BilinearForm(fes, symmetric=True)\n",
    "    a += (grad(u)*grad(v) + u*v)*dx\n",
    "    a.Assemble()\n",
    "\n",
    "    # definición de la forma lineal\n",
    "    f = LinearForm(fes)\n",
    "    f += 10*v*dx\n",
    "    f.Assemble()\n",
    "\n",
    "    # esta sección está basada en https://docu.ngsolve.org/latest/i-tutorials/unit-1.3-dirichlet/dirichlet.html?highlight=gfu%20set\n",
    "    \n",
    "    ########### DEFINICION DE LA CONDICION DE BORDE ######\n",
    "    g = sin(2*pi*x)*sin(2*pi*y)\n",
    "    ######################################################\n",
    "    gfu.Set(g, BND)\n",
    "    \n",
    "    r = f.vec.CreateVector() # \"crear un vector de ceros del mismo tamaño que f\"\n",
    "    \n",
    "    r.data = f.vec - a.mat * gfu.vec\n",
    "    \n",
    "    # soluciones para las ponderaciones de las funciones de prueba considerando la condición de frontera\n",
    "    gfu.vec.data += a.mat.Inverse(freedofs=fes.FreeDofs()) * r\n",
    "\n",
    "    return gfu, mesh\n",
    "\n",
    "gfu, mesh = main()\n",
    "\n",
    "Draw(gfu)"
   ]
  },
  {
   "cell_type": "code",
   "execution_count": null,
   "id": "a90ad3ae",
   "metadata": {},
   "outputs": [],
   "source": []
  }
 ],
 "metadata": {
  "kernelspec": {
   "display_name": "Python 3",
   "language": "python",
   "name": "python3"
  },
  "language_info": {
   "codemirror_mode": {
    "name": "ipython",
    "version": 3
   },
   "file_extension": ".py",
   "mimetype": "text/x-python",
   "name": "python",
   "nbconvert_exporter": "python",
   "pygments_lexer": "ipython3",
   "version": "3.7.9"
  }
 },
 "nbformat": 4,
 "nbformat_minor": 5
}
